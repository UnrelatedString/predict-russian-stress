{
 "cells": [
  {
   "cell_type": "code",
   "execution_count": null,
   "id": "7d5ab97b",
   "metadata": {},
   "outputs": [],
   "source": [
    "from sklearn.neural_network import MLPClassifier\n",
    "import numpy as np\n",
    "import csv\n",
    "\n",
    "# canonical order\n",
    "alphabet = 'абвгдеёжзийклмнопрстуфхцчшщъыьэюя'\n",
    "# vowels in front (non-iotating then iotating) -- might make for easier insight into syllable structure (also no yo)\n",
    "alphabet_sorted = 'аоуыэиеюябвгджзйклмнпрстфхцчшщъь'\n",
    "\n",
    "words = []\n",
    "stresses = []\n",
    "\n",
    "with open('russian3 - words.csv') as openrussian_dictionary_file:\n",
    "    feature_count = 37 # largest entry + 5\n",
    "    for word in csv.DictReader(openrussian_dictionary_file):\n",
    "        features = [0 for _ in range(feature_count)]\n",
    "        stress = [0 for _ in range(feature_count)]\n",
    "        \n",
    "        for i, letter in enumerate(word['bare']):\n",
    "            # Pad the *start* of the word--it's like representing a \"null prefix\" if anything\n",
    "            feature_index = i + feature_count - len(word['bare'])\n",
    "            if letter == 'ё': # don't let the model cheat :P\n",
    "                letter = 'е'\n",
    "            features[feature_index] = alphabet_sorted.find(letter) + 1 # hyphen or whatever else -> 0\n",
    "            \n",
    "        i = feature_count - len(word['bare'])\n",
    "        # Can have stress in multiple places -- don't think about it, just let the model be confused\n",
    "        for character in word['accented']:\n",
    "            if character == \"'\":\n",
    "                stress[i-1] = 1\n",
    "            elif character == 'ё':\n",
    "                stress[i] = 1\n",
    "                i += 1\n",
    "            else:\n",
    "                i += 1\n",
    "        \n",
    "        words.append(features)\n",
    "        stresses.append(stress)\n",
    "\n",
    "words = np.array(words)\n",
    "stresses = np.array(stresses)\n",
    "        "
   ]
  },
  {
   "cell_type": "code",
   "execution_count": 5,
   "id": "54d2240a",
   "metadata": {},
   "outputs": [
    {
     "name": "stderr",
     "output_type": "stream",
     "text": [
      "/home/unrelatedstring/miniconda3/lib/python3.8/site-packages/sklearn/neural_network/_multilayer_perceptron.py:614: ConvergenceWarning: Stochastic Optimizer: Maximum iterations (300) reached and the optimization hasn't converged yet.\n",
      "  warnings.warn(\n"
     ]
    },
    {
     "name": "stdout",
     "output_type": "stream",
     "text": [
      "0.8743073749930319\n"
     ]
    }
   ],
   "source": [
    "    \n",
    "# Originally planned on a CNN, but there's almost nothing useful about the spatial properties on small pieces of 1d data\n",
    "\n",
    "# tune alpha later\n",
    "\n",
    "classifier = MLPClassifier(hidden_layer_sizes=(200,200,200),max_iter=300)\n",
    "classifier.fit(words, stresses)\n",
    "\n",
    "print(classifier.score(words, stresses))"
   ]
  },
  {
   "cell_type": "code",
   "execution_count": 6,
   "id": "0590a44d",
   "metadata": {},
   "outputs": [
    {
     "name": "stdout",
     "output_type": "stream",
     "text": [
      "[array([[-2.14166161e-315,  2.89617646e-315,  9.25788122e-316, ...,\n",
      "        -1.22778363e-315,  3.78986869e-315, -3.92964968e-315],\n",
      "       [-7.55422627e-316, -2.15166411e-315, -2.04893544e-315, ...,\n",
      "        -1.92778294e-316,  1.14098543e-315, -3.61356657e-315],\n",
      "       [ 6.68158204e-316, -4.08005602e-315, -1.42391882e-315, ...,\n",
      "        -3.46061543e-316,  3.44828094e-315,  1.07073981e-315],\n",
      "       ...,\n",
      "       [ 2.48186980e-001, -4.19809817e-001, -1.21669605e-001, ...,\n",
      "         4.40267097e-002, -5.78575093e-001, -2.76404038e-002],\n",
      "       [-1.27667671e+000,  2.08438312e-001, -1.03565773e-001, ...,\n",
      "        -5.87495757e-002, -5.37411841e-001,  8.80037522e-002],\n",
      "       [-3.58068778e-001,  3.41089552e-001, -2.86585701e-001, ...,\n",
      "         2.15443815e-001,  2.70196347e-001, -4.70165529e-001]]), array([[ 0.61161837,  0.14006146,  0.25180594, ...,  0.112296  ,\n",
      "        -0.21036003, -0.63045392],\n",
      "       [-0.14936018,  0.12845298, -0.60418518, ..., -0.11606904,\n",
      "        -0.44147855, -0.15357353],\n",
      "       [-0.0632904 ,  0.05775606, -0.26734897, ..., -0.27749699,\n",
      "         0.01869928, -0.02469315],\n",
      "       ...,\n",
      "       [-0.10149028,  0.01591831, -0.20301816, ..., -0.30929846,\n",
      "        -0.65776906, -0.32557168],\n",
      "       [-0.40833302,  0.13866469, -0.00303357, ...,  0.20099431,\n",
      "        -0.01205834, -0.09698045],\n",
      "       [ 0.13725036,  0.22364333,  0.12475772, ..., -0.06710407,\n",
      "        -0.11547783,  0.28443079]]), array([[-3.28508101e-001, -1.85947673e-316, -7.01647913e-002, ...,\n",
      "         1.58165751e-001, -1.16514978e-001, -2.20976966e-001],\n",
      "       [ 1.58936505e-001,  3.72782085e-316, -1.61108250e-001, ...,\n",
      "        -2.13943720e-001,  4.27873926e-001, -9.39396118e-001],\n",
      "       [-4.28721799e-001, -3.20569082e-315, -3.18873496e-001, ...,\n",
      "         1.76851527e-001, -9.72201818e-002, -1.06155764e-002],\n",
      "       ...,\n",
      "       [ 4.04232789e-002,  3.65669496e-315, -2.88755791e-002, ...,\n",
      "        -4.26430698e-001, -6.32687498e-001, -2.53480065e-001],\n",
      "       [-9.59008110e-001,  5.95293150e-316,  3.24419972e-001, ...,\n",
      "         1.02212983e-001, -3.45218800e-001, -6.62389511e-001],\n",
      "       [ 2.29466736e-001, -4.19506630e-315, -3.18082137e-001, ...,\n",
      "        -4.52980921e-001, -6.88847854e-001, -4.91857351e-001]]), array([[-2.57490154e-004, -2.62483793e-004, -2.58759882e-004, ...,\n",
      "         1.50241160e-001,  3.66012681e-001,  2.12093555e-001],\n",
      "       [ 2.27285472e-315, -4.40421233e-317, -4.30911849e-315, ...,\n",
      "        -1.71483161e-315,  3.02196863e-315,  1.28490793e-315],\n",
      "       [-3.59017214e-004, -3.65241744e-004, -3.60602404e-004, ...,\n",
      "        -3.46343988e-001, -5.11930311e-001, -9.21313944e-002],\n",
      "       ...,\n",
      "       [-2.22896823e-003, -2.27309604e-003, -2.24018635e-003, ...,\n",
      "        -1.09313599e+000,  2.02371912e-001,  1.23493404e-002],\n",
      "       [-6.30358219e-004, -6.43099149e-004, -6.33596508e-004, ...,\n",
      "         1.67219592e-001, -1.74154696e-001,  2.21464144e-002],\n",
      "       [-2.97910703e-005, -3.04382095e-005, -2.99553895e-005, ...,\n",
      "        -1.21224205e+000, -1.00084056e+000, -3.73700642e-001]])]\n"
     ]
    }
   ],
   "source": [
    "print(classifier.coefs_)"
   ]
  },
  {
   "cell_type": "code",
   "execution_count": null,
   "id": "49e47b19",
   "metadata": {},
   "outputs": [],
   "source": []
  }
 ],
 "metadata": {
  "kernelspec": {
   "display_name": "Python 3 (ipykernel)",
   "language": "python",
   "name": "python3"
  },
  "language_info": {
   "codemirror_mode": {
    "name": "ipython",
    "version": 3
   },
   "file_extension": ".py",
   "mimetype": "text/x-python",
   "name": "python",
   "nbconvert_exporter": "python",
   "pygments_lexer": "ipython3",
   "version": "3.8.5"
  }
 },
 "nbformat": 4,
 "nbformat_minor": 5
}
