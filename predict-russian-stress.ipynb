{
 "cells": [
  {
   "cell_type": "code",
   "execution_count": 22,
   "id": "54d2240a",
   "metadata": {},
   "outputs": [],
   "source": [
    "from sklearn.neural_network import MLPClassifier\n",
    "import numpy as np\n",
    "import csv\n",
    "\n",
    "# canonical order\n",
    "alphabet = 'абвгдеёжзийклмнопрстуфхцчшщъыьэюя'\n",
    "# vowels in front -- might make for easier insight into syllable structure (also no yo)\n",
    "alphabet_sorted = 'аеиоуыэюябвгджзйклмнпрстфхцчшщъь'\n",
    "\n",
    "words = []\n",
    "stresses = []\n",
    "\n",
    "with open('russian3 - words.csv') as openrussian_dictionary_file:\n",
    "    feature_count = 37 # largest entry + 5\n",
    "    for word in csv.DictReader(openrussian_dictionary_file):\n",
    "        features = [0 for _ in range(feature_count)]\n",
    "        stress = [0 for _ in range(feature_count)]\n",
    "        \n",
    "        for i, letter in enumerate(word['bare']):\n",
    "            # Pad the *start* of the word--it's like representing a \"null prefix\" if anything\n",
    "            feature_index = i + feature_count - len(word['bare'])\n",
    "            if letter == 'ё': # don't let the model cheat :P\n",
    "                letter = 'е'\n",
    "            features[feature_index] = alphabet_sorted.find(letter) + 1 # hyphen or whatever else -> 0\n",
    "            \n",
    "        i = feature_count - len(word['bare'])\n",
    "        for character in word['accented']:\n",
    "            if character == \"'\":\n",
    "                stress[i-1] = 1\n",
    "            elif character == 'ё':\n",
    "                stress[i] = 1\n",
    "                i += 1\n",
    "            else:\n",
    "                i += 1\n",
    "        \n",
    "        words.append(features)\n",
    "        stresses.append(stress)\n",
    "\n"
   ]
  },
  {
   "cell_type": "code",
   "execution_count": null,
   "id": "0590a44d",
   "metadata": {},
   "outputs": [],
   "source": []
  },
  {
   "cell_type": "code",
   "execution_count": null,
   "id": "bd24d6eb",
   "metadata": {},
   "outputs": [],
   "source": []
  }
 ],
 "metadata": {
  "kernelspec": {
   "display_name": "Python 3 (ipykernel)",
   "language": "python",
   "name": "python3"
  },
  "language_info": {
   "codemirror_mode": {
    "name": "ipython",
    "version": 3
   },
   "file_extension": ".py",
   "mimetype": "text/x-python",
   "name": "python",
   "nbconvert_exporter": "python",
   "pygments_lexer": "ipython3",
   "version": "3.8.5"
  }
 },
 "nbformat": 4,
 "nbformat_minor": 5
}
